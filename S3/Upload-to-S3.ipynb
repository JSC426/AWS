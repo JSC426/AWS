{
 "cells": [
  {
   "cell_type": "code",
   "execution_count": null,
   "metadata": {},
   "outputs": [],
   "source": [
    "import boto3\n",
    "s3 = boto3.resource('s3') # recources is higher level than client"
   ]
  },
  {
   "cell_type": "markdown",
   "metadata": {},
   "source": [
    "## S3 to S3"
   ]
  },
  {
   "cell_type": "code",
   "execution_count": null,
   "metadata": {
    "scrolled": true
   },
   "outputs": [],
   "source": [
    "def s3_to_s3(bucket_source, key_source, bucket_destination, key_destination):\n",
    "    \"\"\"Copy a single file/object from one S3 bucket to another\n",
    "    \n",
    "    Copy a file/object from one S3 bucket to another S3 bucket\n",
    "    \n",
    "    Parameters\n",
    "    ----------\n",
    "    bucket_source : str\n",
    "        Bucket the file currently resides in\n",
    "    key_source : str\n",
    "        Full path to file inside source bucket\n",
    "    bucket_destination : str\n",
    "        Bucket the file will be copied to\n",
    "    key_destination : str\n",
    "        Full path for where file should be copied to\n",
    "        \n",
    "    Returns\n",
    "    -------\n",
    "    none\n",
    "        Copies file/object from source bucket to destination bucket\n",
    "    \"\"\"\n",
    "    \n",
    "    copy_source = {\n",
    "      'Bucket': bucket_source,\n",
    "      'Key': key_source\n",
    "    }\n",
    "    \n",
    "    bucket = s3.Bucket(bucket_destination)\n",
    "    bucket.copy(copy_source, key_destination)"
   ]
  },
  {
   "cell_type": "markdown",
   "metadata": {},
   "source": [
    "## Notebook/Local to S3"
   ]
  },
  {
   "cell_type": "code",
   "execution_count": null,
   "metadata": {},
   "outputs": [],
   "source": [
    "def local_to_s3(key_local, bucket_s3, key_s3):\n",
    "    \"\"\"Write a single file/object to S3\n",
    "\n",
    "    Write a single file/object to S3 bucket/key\n",
    "\n",
    "    Parameters\n",
    "    ----------\n",
    "    key_local : str\n",
    "        Local file/object to be written to S3\n",
    "    bucket_s3 : str\n",
    "        S3 bucket to write local object to\n",
    "    key_s3 : str\n",
    "        S3 key for path inside bucket and object name\n",
    "        \n",
    "    Returns\n",
    "    -------\n",
    "    none\n",
    "        writes object to S3 bucket/key\n",
    "\n",
    "    \"\"\"\n",
    "    \n",
    "    data = open(object_local, 'rb')\n",
    "    s3.Bucket(bucket_s3).put_object(Key=key_s3, Body=data)"
   ]
  },
  {
   "cell_type": "markdown",
   "metadata": {},
   "source": [
    "## S3 to Notebook/Local"
   ]
  },
  {
   "cell_type": "code",
   "execution_count": 1,
   "metadata": {},
   "outputs": [],
   "source": [
    "def s3_to_local(bucket_s3, key_s3, key_local):\n",
    "    \"\"\"Download a single file/object from S3\n",
    "    \n",
    "    Download a single file/object from S3 to local\n",
    "    \n",
    "    Parameters\n",
    "    ----------\n",
    "    bucket_s3 : str\n",
    "        Bucket to download file/object from\n",
    "    key_s3 : str\n",
    "        Full file path inside S3 bucket\n",
    "    key_local : str\n",
    "        Full file path for where to write locally\n",
    "        \n",
    "    Returns\n",
    "    -------\n",
    "    none\n",
    "        writes file/object from bucket/key to local file path\n",
    "    \n",
    "    \"\"\"\n",
    "    \n",
    "    s3.Bucket(bucket_s3).download_file(key_s3, key_local)"
   ]
  },
  {
   "cell_type": "markdown",
   "metadata": {},
   "source": [
    "## File to S3"
   ]
  },
  {
   "cell_type": "code",
   "execution_count": null,
   "metadata": {},
   "outputs": [],
   "source": [
    "import boto3\n",
    "import os\n",
    " \n",
    "def upload_files(full_path_to_file, bucket_s3):\n",
    "    \"\"\"Uploads multiple objects or file to S3\n",
    "    \n",
    "    Specify full file path and all objects inside will be copied to S3 bucket\n",
    "    \n",
    "    Parameters\n",
    "    ----------\n",
    "    full_path_to_file : str\n",
    "        Full path to file to be copied \n",
    "    bucket_s3 : str\n",
    "        Bucket to copy objects into\n",
    "    Results\n",
    "    -------\n",
    "    bool\n",
    "        Return True if successful\n",
    "    \"\"\"\n",
    "    s3 = boto3.resource('s3')\n",
    "    bucket = s3.Bucket(bucket_s3)\n",
    " \n",
    "    for subdir, dirs, files in os.walk(path):\n",
    "        for file in files:\n",
    "            full_path = os.path.join(subdir, file)\n",
    "            with open(full_path, 'rb') as data:\n",
    "                bucket.put_object(Key=full_path[len(path)+1:], Body=data)\n",
    "    return True"
   ]
  }
 ],
 "metadata": {
  "kernelspec": {
   "display_name": "Python 3",
   "language": "python",
   "name": "python3"
  },
  "language_info": {
   "codemirror_mode": {
    "name": "ipython",
    "version": 3
   },
   "file_extension": ".py",
   "mimetype": "text/x-python",
   "name": "python",
   "nbconvert_exporter": "python",
   "pygments_lexer": "ipython3",
   "version": "3.8.3"
  }
 },
 "nbformat": 4,
 "nbformat_minor": 4
}
