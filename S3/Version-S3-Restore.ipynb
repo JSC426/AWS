{
 "cells": [
  {
   "cell_type": "code",
   "execution_count": null,
   "metadata": {},
   "outputs": [],
   "source": [
    "import boto3\n",
    "import os \n",
    "\n",
    "# -----------------------------------\n",
    "# Enter these values here:\n",
    "thebucket = 'compass-us-origtv'\n",
    "thefile = 'matching_svod_all'\n",
    "# ------------------------------------\n",
    "# Don't change anything under here.\n",
    "\n",
    "ec2 = boto3.resource('ec2')\n",
    "ec2client = boto3.client('ec2')\n",
    "s3 = boto3.resource('s3')\n",
    "s3client = boto3.client('s3')\n",
    "\n",
    "# paginate 1000 at a time\n",
    "paginator = s3client.get_paginator('list_object_versions')\n",
    "pageresponse = paginator.paginate(Bucket=thebucket, Prefix=thefile)\n",
    "\n",
    "# iter over the pages from the paginator\n",
    "for pageobject in pageresponse:\n",
    "    # Find if there are any delmarkers\n",
    "    if 'DeleteMarkers' in pageobject.keys():\n",
    "        for each_delmarker in pageobject['DeleteMarkers']:\n",
    "            # Create a resource for the version-object \n",
    "            # and use .delete() to remove it.\n",
    "            fileobjver = s3.ObjectVersion(\n",
    "                thebucket,\n",
    "                each_delmarker['Key'],\n",
    "                each_delmarker['VersionId']\n",
    "            )\n",
    "            # I added this output just so I could watch the script run.\n",
    "            print('Restoring ' + each_delmarker['Key'])\n",
    "            # Lastly, lets remove the del marker and recover one of many files.\n",
    "            fileobjver.delete()"
   ]
  }
 ],
 "metadata": {
  "kernelspec": {
   "display_name": "Python 3",
   "language": "python",
   "name": "python3"
  },
  "language_info": {
   "codemirror_mode": {
    "name": "ipython",
    "version": 3
   },
   "file_extension": ".py",
   "mimetype": "text/x-python",
   "name": "python",
   "nbconvert_exporter": "python",
   "pygments_lexer": "ipython3",
   "version": "3.8.3"
  }
 },
 "nbformat": 4,
 "nbformat_minor": 4
}
